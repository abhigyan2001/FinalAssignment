{
 "cells": [
  {
   "cell_type": "markdown",
   "metadata": {},
   "source": [
    "# Conway's Game of Life\n",
    "\n",
    "#### Implemented in Octave, due to easy Matrix operations in Octave.\n",
    "\n",
    "\n",
    "\n",
    "I've tried to keep it general, by enabling the user to choose their own matrix size and rules for cells surviving and dying.\n",
    "\n",
    "Change the values of size_x and size_y to change the size of the grid."
   ]
  },
  {
   "cell_type": "code",
   "execution_count": 1,
   "metadata": {},
   "outputs": [],
   "source": [
    "size_x = 100;\n",
    "size_y = 100;"
   ]
  },
  {
   "cell_type": "markdown",
   "metadata": {},
   "source": [
    "We'll now set the rules for the cells to survive and be born. Set `num_born` to zero if you want it to only survive or die without new cells being born."
   ]
  },
  {
   "cell_type": "code",
   "execution_count": 2,
   "metadata": {},
   "outputs": [],
   "source": [
    "%rules for cell survival:\n",
    "num_survive_min = 2;\n",
    "num_survive_max = 3;\n",
    "%rules for new cells being born:\n",
    "num_born = 3;"
   ]
  },
  {
   "cell_type": "markdown",
   "metadata": {},
   "source": [
    "The starting grid is constructed randomly, with any cell that has a value greater than 0.9 being made 1 and the rest are set to 0. \n",
    "\n",
    "(Change the value from 0.1 to smaller if you want more black spots in the original matrix.)\n",
    "\n",
    "Also, this version of the Conway's game will ignore the edges as the edges could be implemented in a plethora of different ways, such as them being connected across the edges, while others could want the edges not to be connected, while yet others will consider that the grid is an infinite plane, of which we can only see a part. \n",
    "\n",
    "Thus, by considering that the edges are non-existent, we are leaving it to interpretation, and to advanced implementations to possibly cover this in the future."
   ]
  },
  {
   "cell_type": "code",
   "execution_count": 3,
   "metadata": {},
   "outputs": [],
   "source": [
    "playground = rand(size_y,size_x)>.9;\n",
    "\n",
    "playground(:,1)=0;\n",
    "playground(:,size_x)=0;\n",
    "playground(1,:)=0;\n",
    "playground(size_y,:)=0;\n",
    "\n",
    "%if you want to start with a specific matrix, go ahead and input it here:\n",
    "#playground = [0,0,0,0,0,0;0,0,0,1,0,0;0,1,0,0,1,0;0,1,0,0,1,0;0,0,1,0,0,0;0,0,0,0,0,0]"
   ]
  },
  {
   "cell_type": "markdown",
   "metadata": {},
   "source": [
    "Now, colouring this using imshow..."
   ]
  },
  {
   "cell_type": "code",
   "execution_count": 4,
   "metadata": {},
   "outputs": [
    {
     "data": {
      "image/png": "[encoded data removed]",
      "text/plain": [
       "<IPython.core.display.Image object>"
      ]
     },
     "metadata": {},
     "output_type": "display_data"
    }
   ],
   "source": [
    "imshow(!playground);"
   ]
  },
  {
   "cell_type": "markdown",
   "metadata": {},
   "source": [
    "...but, that's wayyy too small to see clearly... \n",
    "\n",
    "Let's make it N-times bigger, and add horizontal and vertical lines to make a clear grid for this"
   ]
  },
  {
   "cell_type": "code",
   "execution_count": 5,
   "metadata": {},
   "outputs": [],
   "source": [
    "function [scaled] = scaleNx(unscaled,N)\n",
    "    [height,width] = size(unscaled);\n",
    "    scaled = zeros(N*height,N*width);  %create a N-times larger displayable matrix\n",
    "    scaled(1:N:end,:) = 1;%color the horizontal lines black (actually 1 corresponds to white, but we invert it, so that 1 represents black)\n",
    "    scaled(:,1:N:end) = 1;%color the  vertical  lines black\n",
    "    scaled(end,:) = 1;%color the last horizontal line black\n",
    "    scaled(:,end) = 1;%color the last vertical line black\n",
    "\n",
    "    for i = 1:rows(scaled)-1\n",
    "        for j = 1:columns(scaled)-1\n",
    "            idata = floor((i-1)/N)+1; %color all the sub-pixels black vertically\n",
    "            jdata = floor((j-1)/N)+1; %color all the sub-pixels black horizontally\n",
    "            if(unscaled(idata, jdata) == 1)\n",
    "                scaled(i,j) = 1;\n",
    "            end\n",
    "        end\n",
    "    end\n",
    "\n",
    "end"
   ]
  },
  {
   "cell_type": "markdown",
   "metadata": {},
   "source": [
    "Look at how this already makes things so much easier to see...\n",
    "\n",
    "(Point to note here is that the rendering of this grid takes longer than the finding of the next generation... That shows just how expensive i/o operations are in any program!)"
   ]
  },
  {
   "cell_type": "code",
   "execution_count": 6,
   "metadata": {},
   "outputs": [
    {
     "data": {
      "image/png": "[encoded data removed]",
      "text/plain": [
       "<IPython.core.display.Image object>"
      ]
     },
     "metadata": {},
     "output_type": "display_data"
    }
   ],
   "source": [
    "imshow(!scaleNx(playground,5))"
   ]
  },
  {
   "cell_type": "markdown",
   "metadata": {},
   "source": [
    "Algorithm to find the next generation:"
   ]
  },
  {
   "cell_type": "code",
   "execution_count": 7,
   "metadata": {},
   "outputs": [],
   "source": [
    "function [nextgen] = evalNextGen(currgen,survive_min,survive_max,born)\n",
    "    [height,width] = size(currgen);\n",
    "    nextgen = zeros(height,width);\n",
    "    for i = 2:width-1\n",
    "        for j = 2:height-1\n",
    "            aliveNeighbours = 0;\n",
    "            % counting live neighbours + current cell\n",
    "            for l = -1:1\n",
    "                for m = -1:1\n",
    "                    aliveNeighbours += currgen(i+l,j+m);\n",
    "                end\n",
    "            end\n",
    "            aliveNeighbours -= currgen(i,j); %just in case the current cell was 1, we need to subtract it\n",
    "            \n",
    "            % The actual rules:\n",
    "            % 1. Not enough cells around it -> cell dies:\n",
    "            if (currgen(i,j)==1 && aliveNeighbours<survive_min)\n",
    "                nextgen(i,j)=0;\n",
    "            % 2. Too many cells around it -> cell dies:\n",
    "            elseif (currgen(i,j)==1 && aliveNeighbours>survive_max)\n",
    "                nextgen(i,j)=0;\n",
    "            % 3. Just enough cells around a dead cell -> new cell is born:\n",
    "            elseif (currgen(i,j)==0 && aliveNeighbours==born)\n",
    "                nextgen(i,j)=1;\n",
    "            % 4. Just enough cells around a live cell -> cell merely survives:\n",
    "            elseif (currgen(i,j)==1 && aliveNeighbours>=survive_min && aliveNeighbours<=survive_max)\n",
    "                nextgen(i,j)=1;\n",
    "            endif\n",
    "        end\n",
    "    end\n",
    "end"
   ]
  },
  {
   "cell_type": "markdown",
   "metadata": {},
   "source": [
    "Now saving the original `playground` value in a matrix, so that we could use it later if needed."
   ]
  },
  {
   "cell_type": "code",
   "execution_count": 8,
   "metadata": {},
   "outputs": [],
   "source": [
    "original = playground;"
   ]
  },
  {
   "cell_type": "markdown",
   "metadata": {},
   "source": [
    "Now, printing to files...\n",
    "\n",
    "(Note that the image shown at the bottom of the next cell will be the last image generated by the algorithm, as it shows the figure which was last plotted).\n",
    "\n",
    "See the video made from the output of these 50 pictures as a .avi file in the `Conway's Game of Life.avi` file in this directory."
   ]
  },
  {
   "cell_type": "code",
   "execution_count": 9,
   "metadata": {},
   "outputs": [
    {
     "data": {
      "image/png": "[encoded data removed]",
      "text/plain": [
       "<IPython.core.display.Image object>"
      ]
     },
     "metadata": {},
     "output_type": "display_data"
    }
   ],
   "source": [
    "imshow(!scaleNx(original,5));\n",
    "print -dpng file_0.png\n",
    "for i = 1:50\n",
    "    new_playground = evalNextGen(playground,num_survive_min,num_survive_max,num_born);\n",
    "    imshow(!scaleNx(new_playground,5));\n",
    "    file_string = sprintf(\"print -dpng file_%d.png\",i);\n",
    "    eval(file_string)\n",
    "    playground = new_playground;\n",
    "end;"
   ]
  }
 ],
 "metadata": {
  "kernelspec": {
   "display_name": "Octave",
   "language": "octave",
   "name": "octave"
  },
  "language_info": {
   "file_extension": ".m",
   "help_links": [
    {
     "text": "GNU Octave",
     "url": "https://www.gnu.org/software/octave/support.html"
    },
    {
     "text": "Octave Kernel",
     "url": "https://github.com/Calysto/octave_kernel"
    },
    {
     "text": "MetaKernel Magics",
     "url": "https://metakernel.readthedocs.io/en/latest/source/README.html"
    }
   ],
   "mimetype": "text/x-octave",
   "name": "octave",
   "version": "4.2.2"
  }
 },
 "nbformat": 4,
 "nbformat_minor": 2
}
