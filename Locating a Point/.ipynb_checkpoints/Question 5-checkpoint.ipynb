{
 "cells": [
  {
   "cell_type": "markdown",
   "metadata": {},
   "source": [
    "# Locating a Point\n",
    "\n",
    "## Problem Formulation:\n",
    "\n",
    "The given problem can be restated as follows: \n",
    "\n",
    "> Locate a point given on a plane by recursively zeroing in on the quadrant in which it is present.\n",
    "\n",
    "## Proposed Solution Methodology:\n",
    "\n",
    "We will first choose a rectangular region $R\\in{\\rm I\\!R}^2$ and a point lying in $R$.\n",
    "\n",
    "We will create an object to focus on this rectangular region, and divide it into four quadrants. Next, we will find which quadrant our point lies in. Then, we will focus on that quadrant as our new plane, and repeat the same process again.\n",
    "\n",
    "For this purpose, I've created my own Python class (called Plane), which takes care of the plane's position in real space, is able to find which quadrant a given point lies in, and is able to return its bounding box's coordinates as a list of points, making it easier for us to draw the boxes using SageMath's `polygon` function when the required quadrant is found.\n",
    "\n",
    "## Implementation:\n",
    "\n",
    "We will do this assignment in Python using SageMath, as SageMath provides us with a good graphing toolkit, which can easily plot polygons.\n",
    "\n",
    "First, we will import the Plane class from Plane.py, located in this directory. (Please make sure it is present in this directory when checking whether this code is working.)\n",
    "\n",
    "The syntax for that is:"
   ]
  },
  {
   "cell_type": "code",
   "execution_count": 1,
   "metadata": {},
   "outputs": [],
   "source": [
    "from Plane import Plane"
   ]
  },
  {
   "cell_type": "markdown",
   "metadata": {},
   "source": [
    "Now, we're defining the overall plane's boundaries in real space (basically our $r\\in{\\rm I\\!R}^2$).\n",
    "\n",
    "I've chosen a square region [0,10] on both axes."
   ]
  },
  {
   "cell_type": "code",
   "execution_count": 2,
   "metadata": {},
   "outputs": [],
   "source": [
    "xs = [0,10]\n",
    "ys = [0,10]"
   ]
  },
  {
   "cell_type": "markdown",
   "metadata": {},
   "source": [
    "Creating the Plane object using the constructor method which takes in 2 lists as inputs, one with the x-range and the other with the y-range.\n",
    "\n",
    "Then we're printing it's bounding box's values, just to ensure that it initialized properly."
   ]
  },
  {
   "cell_type": "code",
   "execution_count": 3,
   "metadata": {},
   "outputs": [
    {
     "name": "stdout",
     "output_type": "stream",
     "text": [
      "[[0, 0], [0, 10], [10, 10], [10, 0]]\n"
     ]
    }
   ],
   "source": [
    "plane = Plane(xs,ys)\n",
    "print(plane.boundingBox())"
   ]
  },
  {
   "cell_type": "markdown",
   "metadata": {},
   "source": [
    "Now, we're plotting our sample space, before we start locating the point accurately."
   ]
  },
  {
   "cell_type": "code",
   "execution_count": 4,
   "metadata": {},
   "outputs": [
    {
     "data": {
      "image/png": "[encoded data removed]",
      "text/plain": [
       "Graphics object consisting of 1 graphics primitive"
      ]
     },
     "metadata": {},
     "output_type": "display_data"
    }
   ],
   "source": [
    "p = []\n",
    "p.append(polygon(plane.boundingBox(),fill=False))\n",
    "sum(p).show()"
   ]
  },
  {
   "cell_type": "markdown",
   "metadata": {},
   "source": [
    "I've randomly chosen the point to be `[3,4]`, but it could indeed be anything within the range of the plane.\n",
    "\n",
    "(Note that if you do put in a point outside this plane region, you'll get a `NoneType` object, which will stop the code from executing. So, the exceptions are handled in some way.)"
   ]
  },
  {
   "cell_type": "code",
   "execution_count": 5,
   "metadata": {},
   "outputs": [],
   "source": [
    "my_point = [3,4]"
   ]
  },
  {
   "cell_type": "markdown",
   "metadata": {},
   "source": [
    "Now, we will zero in on our point, recursively, 6 times. Change the `depth` from 6 to a larger value to make it zero in more closely.\n",
    "\n",
    "The plot below shows the point in red, and all the quadrants found at each stage in blue."
   ]
  },
  {
   "cell_type": "code",
   "execution_count": 6,
   "metadata": {},
   "outputs": [
    {
     "data": {
      "image/png": "[encoded data removed]",
      "text/plain": [
       "Graphics object consisting of 8 graphics primitives"
      ]
     },
     "metadata": {},
     "output_type": "display_data"
    }
   ],
   "source": [
    "depth = 6\n",
    "for i in range(depth):\n",
    "    plane = plane.whichQuadrant(my_point)\n",
    "    p.append(polygon(plane.boundingBox(),fill=False))\n",
    "p.append(point(my_point,color='red'))\n",
    "sum(p).show()"
   ]
  },
  {
   "cell_type": "markdown",
   "metadata": {},
   "source": [
    "## Documentation:\n",
    "\n",
    "### Plane.py\n",
    "The soure code for the Plane class from Plane.py is given below, along with the Python docstring. These can also be accessed using the help commands in the IPython terminal.\n",
    "\n",
    "\n",
    "```python\n",
    "class Plane:\n",
    "    \"\"\"\n",
    "    A simple class which can be used to represent general rectangular planes\n",
    "    \n",
    "    It contains:\n",
    "    1. A method to initialize its bounds and its quadrants\n",
    "    2. A method to find in which of its quadrants a given point lies, and it returns a new object of the same type which represents that quadrant of the plane\n",
    "    3. A method to return the string representation of its bounds\n",
    "    4. A method to return the bounds as a list of points (here, points are 1x2 lists)\n",
    "    \"\"\"\n",
    "\n",
    "    def __init__(self, lstx, lsty):\n",
    "        \"\"\"\n",
    "        Initialize the x_min, x_max, y_min, y_max, calculate x_mid and y_mid to make it easier to calculate the quadrants bounds\n",
    "        \"\"\"\n",
    "        self.x_min = lstx[0]\n",
    "        self.x_max = lstx[1]\n",
    "        self.y_min = lsty[0]\n",
    "        self.y_max = lsty[1]\n",
    "        self.x_mid = (self.x_min+self.x_max)/2\n",
    "        self.y_mid = (self.y_min+self.y_max)/2\n",
    "        self.q1 = [[self.x_min,self.x_mid],[self.y_min,self.y_mid]]\n",
    "        self.q2 = [[self.x_mid,self.x_max],[self.y_min,self.y_mid]]\n",
    "        self.q3 = [[self.x_mid,self.x_max],[self.y_mid,self.y_max]]\n",
    "        self.q4 = [[self.x_min,self.x_mid],[self.y_mid,self.y_max]]\n",
    "    def whichQuadrant(self, point):\n",
    "        \"\"\"\n",
    "        Find which quadrant a given point lies in and return the Plane object representing that\n",
    "        \"\"\"\n",
    "        x = point[0]\n",
    "        y = point[1]\n",
    "        if x>=self.x_min and x<self.x_mid:\n",
    "            if y>=self.y_min and y<self.y_mid:\n",
    "                return Plane(self.q1[0],self.q1[1])\n",
    "            elif y>=self.y_mid and y<self.y_max:\n",
    "                return Plane(self.q4[0],self.q4[1])\n",
    "        elif x>=self.x_mid and x<self.x_max:\n",
    "            if y>=self.y_min and y<self.y_mid:\n",
    "                return Plane(self.q2[0],self.q2[1])\n",
    "            elif y>=self.y_mid and y<self.y_max:\n",
    "                return Plane(self.q3[0],self.q3[1])\n",
    "        else:\n",
    "            return None\n",
    "    def __str__(self):\n",
    "        \"\"\"\n",
    "        Return the string representation of the Plane object as the bounding values\n",
    "        \"\"\"\n",
    "        return \"x_min = \"+str(self.x_min)+\", x_max = \"+str(self.x_max)+\"\\ny_min = \"+str(self.y_min)+\", y_max = \"+str(self.y_max)\n",
    "    def boundingBox(self):\n",
    "        \"\"\"\n",
    "        Return the bounding box of the plane as a list of points, where points are 1x2 lists\n",
    "        \"\"\"\n",
    "        return [[self.x_min,self.y_min],[self.x_min,self.y_max],[self.x_max,self.y_max],[self.x_max,self.y_min]]\n",
    "```\n",
    "(It is only kept here for showing the source code within the Jupyter notebook, and cannot be executed, as it has been merely written here in Markdown.)\n",
    "\n",
    "### SageMath functions used:\n",
    "\n",
    "1. `polygon(xdata,ydata,options)`\n",
    "    \n",
    "    Basically, `polygon` draws a polygon by joining the points given in xdata and ydata\n",
    "\n",
    "2. `point(xdata,ydata,options)`\n",
    "\n",
    "    Basically, `point` draws points at the given xdata and ydata\n",
    "\n",
    "3. `show()`\n",
    "\n",
    "    `show()` is called on a plot object to display it\n",
    "\n",
    "### Pure Python functions used:\n",
    "\n",
    "1. `print(args)`\n",
    "\n",
    "    This prints out the string `args` to the console. In case of an object, it prints out `str(args)` instead.\n",
    "2. `list.append(element)`\n",
    "\n",
    "    This adds the element `element` to the list `list`.\n",
    "3. `sum(list)`\n",
    "\n",
    "    This adds the elements of the list `list`. This only works if adding the elements of `list` is a valid Python operation, i.e. if the \\_\\_add\\_\\_ function has been overloaded properly.\n",
    "    \n",
    "4. `range(n)`\n",
    "\n",
    "    This creates a range of numbers from 0 to n-1, which we can iterate over."
   ]
  }
 ],
 "metadata": {
  "kernelspec": {
   "display_name": "SageMath 8.8",
   "language": "sage",
   "name": "sagemath"
  },
  "language_info": {
   "codemirror_mode": {
    "name": "ipython",
    "version": 3
   },
   "file_extension": ".py",
   "mimetype": "text/x-python",
   "name": "python",
   "nbconvert_exporter": "python",
   "pygments_lexer": "ipython3",
   "version": "3.7.3"
  }
 },
 "nbformat": 4,
 "nbformat_minor": 2
}
